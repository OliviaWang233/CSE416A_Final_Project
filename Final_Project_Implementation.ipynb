{
 "cells": [
  {
   "cell_type": "code",
   "execution_count": 149,
   "id": "30fab27a",
   "metadata": {},
   "outputs": [],
   "source": [
    "import networkx as nx\n",
    "import numpy as np\n",
    "import csv\n",
    "import spacy\n",
    "from networkx.algorithms.community import greedy_modularity_communities"
   ]
  },
  {
   "cell_type": "markdown",
   "id": "5b1f3726",
   "metadata": {},
   "source": [
    "# Graph Construction"
   ]
  },
  {
   "cell_type": "code",
   "execution_count": 150,
   "id": "1a31465e",
   "metadata": {},
   "outputs": [],
   "source": [
    "# add nodes\n",
    " \n",
    "G = nx.Graph()\n",
    "G_copy = nx.Graph()\n",
    "sentences = []\n",
    "with open('data.csv','r') as csvfile:\n",
    "    file = csv.reader(csvfile, delimiter=\"|\")\n",
    "    for row in file:\n",
    "        sentences.append(row[1])\n",
    "        G.add_node(row[1], article_index = row[0])\n",
    "        G_copy.add_node(row[1], article_index = row[0])"
   ]
  },
  {
   "cell_type": "code",
   "execution_count": 151,
   "id": "b424195f",
   "metadata": {},
   "outputs": [
    {
     "name": "stdout",
     "output_type": "stream",
     "text": [
      "Graph with 91 nodes and 1210 edges\n"
     ]
    }
   ],
   "source": [
    "'''''''''running time of this cell is about one minute'''''''''\n",
    "\n",
    "# add edges with weight \n",
    "# rule: if the two sentences' similarity > N, these two nodes have edge\n",
    "\n",
    "nlp = spacy.load(\"en_core_web_lg\")\n",
    "for i in range(len(sentences)-1):\n",
    "    for j in range(i+1, len(sentences)):\n",
    "        doc1 = nlp(sentences[i])\n",
    "        doc2 = nlp(sentences[j])\n",
    "        similarity = ((doc1.similarity(doc2))-0.5)*200 # 0 - 100\n",
    "        if similarity > 80:\n",
    "            G.add_edge(sentences[i], sentences[j], weight=similarity)\n",
    "            G_copy.add_edge(sentences[i], sentences[j], weight=similarity)\n",
    "print(G)\n",
    "nx.write_gexf(G, \"G.gexf\")"
   ]
  },
  {
   "cell_type": "markdown",
   "id": "a2b4064c",
   "metadata": {},
   "source": [
    "# Current Graph Structure"
   ]
  },
  {
   "cell_type": "code",
   "execution_count": 152,
   "id": "cf68e0eb",
   "metadata": {},
   "outputs": [
    {
     "name": "stdout",
     "output_type": "stream",
     "text": [
      "CC_number = 6\n",
      "# nodes in connected components are [86, 1, 1, 1, 1, 1]\n"
     ]
    }
   ],
   "source": [
    "CC_number = nx.number_connected_components(G)\n",
    "print('CC_number = ' + str(CC_number))\n",
    "number_of_nodes_in_CC = [len(c) for c in sorted(nx.connected_components(G), key=len, reverse=True)]\n",
    "print('# nodes in connected components are ' + str(number_of_nodes_in_CC))\n"
   ]
  },
  {
   "cell_type": "code",
   "execution_count": 153,
   "id": "147b3aa9",
   "metadata": {},
   "outputs": [
    {
     "data": {
      "text/plain": [
       "'degree_sequence = nx.degree_histogram(G)\\nprint(degree_sequence)\\nx = np.arange(len(degree_sequence))\\nfig, ax = plt.subplots()\\nax.scatter(x, degree_sequence)'"
      ]
     },
     "execution_count": 153,
     "metadata": {},
     "output_type": "execute_result"
    }
   ],
   "source": [
    "'''degree_sequence = nx.degree_histogram(G)\n",
    "print(degree_sequence)\n",
    "x = np.arange(len(degree_sequence))\n",
    "fig, ax = plt.subplots()\n",
    "ax.scatter(x, degree_sequence)'''"
   ]
  },
  {
   "cell_type": "code",
   "execution_count": 154,
   "id": "a9234ae3",
   "metadata": {},
   "outputs": [
    {
     "name": "stdout",
     "output_type": "stream",
     "text": [
      "Graph with 86 nodes and 1210 edges\n"
     ]
    }
   ],
   "source": [
    "#remove the isolated nodes\n",
    "CC = [c for c in sorted(nx.connected_components(G), key=len, reverse=True)]\n",
    "for i in range(CC_number):\n",
    "    if number_of_nodes_in_CC[i]==1:\n",
    "        G.remove_nodes_from(CC[i])\n",
    "\n",
    "print(G)\n",
    "nx.write_gexf(G, \"G_remove_isolated_nodes.gexf\")"
   ]
  },
  {
   "cell_type": "markdown",
   "id": "829e84f1",
   "metadata": {},
   "source": [
    "# Graph Analysis"
   ]
  },
  {
   "cell_type": "markdown",
   "id": "4727cb51",
   "metadata": {},
   "source": [
    "### Clustering"
   ]
  },
  {
   "cell_type": "code",
   "execution_count": 168,
   "id": "fcf527f0",
   "metadata": {},
   "outputs": [],
   "source": [
    "number_of_communities = 10\n",
    "c = greedy_modularity_communities(G, weight = 'weight',n_communities = number_of_communities)\n",
    "all_S = []\n",
    "for i in range(number_of_communities):\n",
    "    all_S.append(list(c[i]))\n",
    "\n",
    "for partition_index in range(len(all_S)):\n",
    "    G.add_nodes_from(all_S[partition_index], partition = partition_index)\n",
    "\n",
    "nx.write_gexf(G, \"G_partition.gexf\")"
   ]
  },
  {
   "cell_type": "markdown",
   "id": "f35d3fa6",
   "metadata": {},
   "source": [
    "### Extract the salient sentence in each community"
   ]
  },
  {
   "cell_type": "markdown",
   "id": "563e7715",
   "metadata": {},
   "source": [
    "##### Eigenvector centrality"
   ]
  },
  {
   "cell_type": "code",
   "execution_count": 174,
   "id": "c7dc5150",
   "metadata": {},
   "outputs": [
    {
     "name": "stdout",
     "output_type": "stream",
     "text": [
      "[(' Two rule-based methods to convert dependency structure into phrase structure are presented by Covington and Collins et al.', {'article_index': '1', 'partition': 0, 'centrality': 0.06681447084225374}), (' Covington and Collins et al. use three simple rules with the help of X-bar theory and convert the dependency structure into phrase structure.', {'article_index': '1', 'partition': 0, 'centrality': 0.11877402141193075}), (' The dependents in the method of Collins et al.  project only one level; hence, the dependents of a head are in the same level.', {'article_index': '1', 'partition': 0, 'centrality': 0.1381911377935973}), (' We used the two-letter tag method proposed by Collins et al. to integrate a family of POS tags to a CPOS.', {'article_index': '2', 'partition': 0, 'centrality': 0.11587772645475704}), (' Previous work on treebank conversion primarily focuses on converting one grammar formalism of a treebank into another and then conducting a study on the converted treebank (Collins et al., 1999; Xia et al., 2008).', {'article_index': '3', 'partition': 1, 'centrality': 0.19820806309905176}), (' The coarse morphological tag provided by Czech two-letter coarse morphological tag, as described in (Collins et al., 1999), The first letter is the main POS (12 possible values), the second letter is either the morphological case field if the main POS displays case (i.e. for nouns, adjectives, pronouns, numerals and prepositions; 7 possible values), or the detailed POS if it does not (22 possible values).', {'article_index': '4', 'partition': 0, 'centrality': 0.15252034228473316}), (' Dependency-based representations have become increasingly popular in syntactic parsing, especially for languages that exhibit free or flexible word order, such as Czech [7], Bulgarian [15], Turkish [14] and Russian [4].', {'article_index': '5', 'partition': 2, 'centrality': 0.5648417595396397}), (' For example, for constituent (phrase-structure) syntactic parsing [Charniak 2000; Collins 1999; Petrov et al. 2006] of Chinese, besides the most popular treebank, Penn Chinese Treebank (CTB) [Xue et al. 2002], there are other treebanks such as Tsinghua Chinese Treebank (TCT) and Peking Chinese Treebank.', {'article_index': '6', 'partition': 1, 'centrality': 0.08997420393858206}), (' Algorithm 2 presents the extended version of the decoding algorithm used in the Collins parser, what the algorithm needs to do is to generate edges for each span.', {'article_index': '6', 'partition': 0, 'centrality': 0.02687021847339561}), (' One type focuses on converting treebanks of different grammar formalisms. Collins et al. [1999] addressed constituent syntactic parsing on Czech using a treebank converted from a Prague dependency treebank.', {'article_index': '6', 'partition': 0, 'centrality': 0.04646816024966755}), (' Collins et al. (1999) report that an optimal tagset for parsing Czech consists of a basic POS tag plus a CASE feature (when applicable).', {'article_index': '11', 'partition': 0, 'centrality': 0.15112776806834124}), (' Subsequently, researchers have begun to look at both porting these parsers to new domains (Gildea, 2001; McClosky et al., 2006; Petrov et al., 2010) and constructing parsers for new languages (Collins et al., 1999; Buchholz and Marsi, 2006; Nivre et al., 2007).', {'article_index': '8', 'partition': 1, 'centrality': 0.11649981631850428}), (' By comparison, the case feature improved parsing for Czech (Collins et al., 1999) and the combination of the number feature for adjectives and mode feature for verbs improved results for Spanish (Cowan and Collins, 2005).', {'article_index': '9', 'partition': 1, 'centrality': 0.1857677802612502}), (' For Czech, the adaptation by Collins et al. (1999) culminated in an 80 F1-score.', {'article_index': '10', 'partition': 1, 'centrality': 0.035603987208162005}), (\" For example, Collins et al. (1999) adapted Collins' parser to Czech, a highly- inflected language.\", {'article_index': '12', 'partition': 1, 'centrality': 0.040535430450942864}), (\" Explanations for this phenomenon have included the relative informativeness of lexicalization (Dubey and Keller, 2003; Arun and Keller, 2005), insensitivity to morphology (Cowan and Collins, 2005; Tsarfaty and Sima'an, 2008), and the effect of variable word order (Collins et al., 1999).\", {'article_index': '13', 'partition': 1, 'centrality': 0.2106547285942538}), (' There have been some work (Collins et al., 1999b; Xia and Palmer, 2001) about converting dependency structures to phrase structures.', {'article_index': '14', 'partition': 1, 'centrality': 0.22267724339665498}), (\" Collins et al. (1999b) proposed an algorithm to convert the Czech dependency Treebank into a phrase structure Treebank and do dependency parsing through Collins (1999a)'s model.\", {'article_index': '14', 'partition': 0, 'centrality': 0.1589297762075518}), (\" Different from tree- transformed PCFG based approach and lexicalized PCFG based approach, both of Collins et al. (1999b) and Xia and Palmer (2001) attempted to build some heuristic rules through linguistic theory, but didn't try to learn anything from Treebank.\", {'article_index': '14', 'partition': 0, 'centrality': 0.16637466364772838}), (' Collins et al. (1999) addressed constituent syntactic parsing on Czech using a treebank converted from a Prague dependency treebank, where conversion rules derived from head-dependent pairs and heuristic rules are applied.', {'article_index': '15', 'partition': 0, 'centrality': 0.13124603715184513}), (' Other related works focus on converting one grammar formalism of a treebank to another and then conducting studies on the converted treebank (Collins et al., 1999; Forst, 2003; Wang et al., 1994; Watkinson and Manandhar, 2001).', {'article_index': '16', 'partition': 1, 'centrality': 0.26488246122180026}), (' Previous methods for DS to PS conversion (Collins et al., 1999; Covington, 1994; Xia and Palmer, 2001; Xia et al., 2008) often rely on pre- defined heuristic rules to eliminate converison ambiguity, e.g., minimal projection for dependents, lowest attachment position for dependents, and the selection of conversion rules that add fewer number of nodes to the converted tree.', {'article_index': '16', 'partition': 1, 'centrality': 0.215037521821504}), (' Previous DS to PS conversion methods built a converted tree by iteratively attaching nodes and edges to the tree with the help of conversion rules and heuristic rules, based on current head- dependent pair from a source dependency tree and the structure of the built tree (Collins et al., 1999; Covington, 1994; Xia and Palmer, 2001; Xia et al., 2008).', {'article_index': '16', 'partition': 0, 'centrality': 0.21783635832812126}), (' Collins et al. (1999) performed statistical constituency parsing of Czech on a treebank that was converted from the Prague Dependency Treebank under the guidance of conversion rules and heuristic rules, e.g., one level of projection for any category, minimal projection for any dependents, and fixed position of attachment.', {'article_index': '16', 'partition': 0, 'centrality': 0.20052225249029987}), (' In the application of the Collins parser to the Prague Dependency Treebank (Collins et al. 1999) the automatic mapping from dependency to phrase-structure was a major area of research.', {'article_index': '17', 'partition': 0, 'centrality': 0.2013098513508796}), (\" Czech POS tags were obtained by the following two steps: First, we used 'feature-based tagger' included with the PDT3, and then, we used the method described in (Collins et al., 1999) to convert the assigned rich POS tags into simplified POS tags.\", {'article_index': '18', 'partition': 0, 'centrality': 0.18266537488958703}), (' As the interest of the NLP community grows to encompass more languages, we observe efforts towards adapting an English parser for parsing other languages (e.g., (Collins et al., 1999))', {'article_index': '19', 'partition': 0, 'centrality': 0.15020213051428957}), (' With its 1.5 million syntactically annotated tokens, the PDT in version 2.0 forms the biggest source of Czech syntactic data. Dependency parsers, e.g. [8,9], usually use the PDT data for training their internal syntax models.', {'article_index': '20', 'partition': 0, 'centrality': 0.020357242081229767}), (' State-of-the-art morphological taggers can achieve accuracy rates of over 96% for English [34, 36] and 92% for highly inflected languages like Czech [20], and dependency parsers can achieve labeled accuracy rates for the same languages of 86% [31] and 80% [11], respectively.', {'article_index': '21', 'partition': 2, 'centrality': 0.3437846993195429}), (' It is possible to derive transformations that will convert many dependency grammars to context-free grammars, and vice versa [Collins et al. 1999].', {'article_index': '22', 'partition': 0, 'centrality': 0.049105898988805165}), (' The two of them which are most conspicuous, and identified as most problematic, e.g., in (Collins et al., 1999), are rich nominal inflection (§2.1) and free word order (§2.6).', {'article_index': '24', 'partition': 1, 'centrality': 0.1593151918103463}), (' This two-dimensional parametrization has been instrumental in devising parsing models that improve disambiguation capabilities for English as well as other languages, such as German (Dubey and Keller, 2003) Czech (Collins et al., 1999) and Chinese (Bikel and Chiang, 2000).', {'article_index': '25', 'partition': 1, 'centrality': 0.24139917639375258}), (' The increasing availability of multi-format treebanks  and the automatic conversion from some formats to others, e.g. (Collins et al, 1999; Bahgat Shehata and Zanzotto, 2006), are attempts to overcome this problem.', {'article_index': '26', 'partition': 1, 'centrality': 0.18401820300926455}), (' For instance, the availability of parallel annotations, and among them one in Penn format, can be of some aid in investigating the irreproducibility of the state-of-the-art results on tree- banks or languages other than Penn and English, as empirically demonstrated by, e.g., (Collins et al, 1999) on Czech, (Dubey and Keller, 2003) on German, (Corazza et al, 2004) on Italian.', {'article_index': '26', 'partition': 1, 'centrality': 0.22988902544333384}), (' The output of this first step includes compact tags where features are expressed by short strings, like in (Collins et al, 1999).', {'article_index': '26', 'partition': 0, 'centrality': 0.18098449243772444}), (' We have described the feature templates and we have shown that when we are able to train over a large feature space, the addition of full 15-letters morphological tags for Czech outperforms the 2-letters tags commonly used since [5].', {'article_index': '27', 'partition': 0, 'centrality': 0.11080940815309011}), (' This two-dimensional parametrization2 was shown to improve parsing accuracy for English [4, 1] as well as other languages, e.g., German [7] Czech [5] and Chinese [2].', {'article_index': '29', 'partition': 2, 'centrality': 0.47678363380526756}), (' More specifically for PDT, Collins et al. (1999) relabel coordinated phrases after converting dependency structures to phrase structures.', {'article_index': '30', 'partition': 4, 'centrality': 1.0}), (' The part-of-speech tagging used (both in training and testing) is the HMM tagging distributed with the treebank, with a tagging accuracy of 94.1%, and with the tagset compressed to 61 tags as in Collins et al. (1999)', {'article_index': '30', 'partition': 0, 'centrality': 0.1912477773751656}), (' Dependency-based representations have become increasingly popular in syntactic parsing, especially for languages that exhibit free or flexible word order, such as Czech (Collins et al., 1999).', {'article_index': '31', 'partition': 2, 'centrality': 0.3453995201000121}), (\" Collins (1997)'s parser and its reimplementation and extension by Bikel (2002) have by now been applied to a variety of languages: English (Collins, 1999), Czech (Collins et al., 1999), German (Dubey and Keller, 2003), Spanish (Cowan and Collins, 2005), French (Arun and Keller, 2005), Chinese (Bikel, 2002) and, according to Dan Bikel's web page, Arabic.\", {'article_index': '32', 'partition': 1, 'centrality': 0.0901418443528902}), (' The usage of special knowledge bases to determine projections of categories (Xia and Palmer, 2001) would have presupposed language-dependent knowledge, so we investigated two other options: Flat rules (Collins et al., 1999) and binary rules.', {'article_index': '33', 'partition': 0, 'centrality': 0.21612129852617198}), (' Finally the placement of punctuation signs has a major impact on the performance of a parser (Collins et al., 1999).', {'article_index': '33', 'partition': 5, 'centrality': 1.0}), (' So, Collins et al. (1999) proposed a tag classification for parsing the Czech treebank.', {'article_index': '33', 'partition': 1, 'centrality': 0.15622201850841397}), (\" Comparable results in the literature are Schiehlen's (2004) 81.03% dependency f- score reached on the German NEGRA treebank and Collins et al.'s (1999) 80.0% labelled accuracy on the Czech PDT treebank.\", {'article_index': '33', 'partition': 3, 'centrality': 0.5735829623578843}), (\" They are referred to using the following abbreviations: McD (McDonnald's maximum spanning tree parser, [6]),6 COL (Collins's parser adapted for PDT, [7]), ZZ (rule-based dependency parser described in Section 2), AN (Holan's parser ANALOG which has no training phase and in the parsing phase it searches for the local tree configuration most similar to the training data, [5]), L2R, R2L, L23 and R32 (pushdown parsers introduced in Section 3).\", {'article_index': '34', 'partition': 0, 'centrality': 0.12013651161985801}), (' We thus augment the syntactic type of conjuncts to include the type of the conjoined constituents by using the syntactic type of the head child. This is similar to what was done for Czech by Collins et al. [1].', {'article_index': '35', 'partition': 0, 'centrality': 0.18887224630189564}), (' The results so far mainly come from studies where a parser originally developed for English, such as the Collins parser [1], is applied to a new language, which often leads to a significant decrease in the measured accuracy [2,3,4,5,6].', {'article_index': '36', 'partition': 0, 'centrality': 0.1859082615580684}), (' The remaining set of projected trees becomes the treebank that will be used to train a new dependency parser — we conduct our experiments using a version of the Collins parser that has been adapted for dependency treebanks (Collins et al. 1999).', {'article_index': '37', 'partition': 0, 'centrality': 0.21331165134465677}), (' In particular, we used the method of Collins et al. (1999) to simplify part-of-speech tags since the rich tags used by Czech would have led to a large but rarely seen set of POS features.', {'article_index': '38', 'partition': 0, 'centrality': 0.20651360903096427}), (' The Czech parser of Collins et al. (1999) was run on a different data set and most other dependency parsers are evaluated using English.', {'article_index': '38', 'partition': 0, 'centrality': 0.19837504941986675}), (' It is also true of the adaptation of the Collins parser for Czech (Collins et al., 1999) and the finite-state dependency parser for Turkish by Oflazer (2003).', {'article_index': '39', 'partition': 1, 'centrality': 0.20142983649364793}), (' Interest in parsing models for languages other than English has been growing, starting with work on Czech (Collins et al., 1999) and Chinese (Bikel and Chiang, 2000; Levy and Manning, 2003).', {'article_index': '40', 'partition': 1, 'centrality': 0.25662373759748697}), (\" Bigram Model This model, inspired by the approach of Collins et al. (1999) for parsing the Prague Dependency Treebank, builds on Collins' Model 2 by implementing a 1st order Markov assumption for the generation of sister non-terminals.\", {'article_index': '40', 'partition': 0, 'centrality': 0.17688101048152438}), (' This is consistent with the findings of Collins et al. (1999) for Czech, where the bigram model upped dependency accuracy by about 0.9%, as well as for English where Charniak (2000) reports an increase in F-score of approximately 0.3%.', {'article_index': '40', 'partition': 3, 'centrality': 0.5851818021077321}), (' Most previous dependency parsing models have focused on projective trees, including the work of Eisner (1996), Collins et al. (1999), Yamada and Matsumoto (2003), Nivre and Scholz (2004), and McDonald et al. (2005).', {'article_index': '41', 'partition': 1, 'centrality': 0.12486839030298084}), (' To reduce sparseness, our features rely only on the reduced POS tag set from Collins et al. (1999).', {'article_index': '41', 'partition': 1, 'centrality': 0.16143326024168986}), (' Furthermore, we can also see that the MST parsers perform favorably compared to the more powerful lexicalized phrase-structure parsers, such as those presented by Collins et al. (1999) and Zeman (2004) that use expensive O n5 parsing algorithms.', {'article_index': '41', 'partition': 0, 'centrality': 0.1311929099573895}), (' We should note that the results in Collins et al. (1999) are different then reported here due to different training and testing data sets.', {'article_index': '41', 'partition': 0, 'centrality': 0.17111180409935844}), (' For instance, work has been done in Chinese using the Penn Chinese Tree- bank (Levy and Manning, 2003; Chiang and Bikel, 2002), in Czech using the Prague Dependency Tree- bank (Collins et al., 1999), in French using the French Treebank (Arun and Keller, 2005), in German using the Negra Treebank (Dubey, 2005; Dubey and Keller, 2003), and in Spanish using the UAM Spanish Treebank (Moreno et al., 2000).', {'article_index': '42', 'partition': 1, 'centrality': 0.12792215563052864}), (' The authors in (Collins et al., 1999) describe an approach that gives 80% accuracy in recovering unlabeled dependencies in Czech.1', {'article_index': '42', 'partition': 3, 'centrality': 0.5732057604165373}), (' Uses a probabilistic context-free grammar, home in constituency- based structures. Described in (Haji et al., 1998; Collins et al., 1999).', {'article_index': '43', 'partition': 1, 'centrality': 0.16409079975627824}), (' Statistical parsing models have been shown to be successful in recovering labeled constituencies (Collins, 2003; Charniak and Johnson, 2005; Roark and Collins, 2004) and have also been shown to be adequate in recovering dependency relationships (Collins et al., 1999;', {'article_index': '44', 'partition': 1, 'centrality': 0.2094140347419744}), (' A pragmatic justification for using constituency- based parsers in order to predict dependency structures is that currently the best Czech dependency- tree parser is a constituency-based parser (Collins et al., 1999; Zeman, 2004).', {'article_index': '44', 'partition': 0, 'centrality': 0.1817917545269963}), (' In an attempt to extend a constituency-based parsing model to train on dependency trees, Collins transforms the PDT dependency trees into constituency trees (Collins et al., 1999).', {'article_index': '44', 'partition': 0, 'centrality': 0.048223312137455884}), (' The trees are then transformed into Penn Treebank style constituencies using the technique described in (Collins et al., 1999).', {'article_index': '44', 'partition': 1, 'centrality': 0.1333637730007733}), (' Although the results presented in (Collins et al., 1999) used the reordering technique, we have experimented with his parser using the governor-raising technique and observe an increase in dependency accuracy.', {'article_index': '44', 'partition': 0, 'centrality': 0.20899154549565951}), (' a subset of the morphological tag as described in (Collins et al., 1999)', {'article_index': '44', 'partition': 1, 'centrality': 0.09066617636698944}), (' Second, Czech exhibits a “relatively free word order” [7].', {'article_index': '45', 'partition': 6, 'centrality': 1.0}), (' From the resulting (noisy) dependency treebank, a dependency parser is trained using the techniques of (Collins, 1999).', {'article_index': '46', 'partition': 0, 'centrality': 0.07864710289358837}), (' Unlabeled attachment score (UAS): The proportion of words that are assigned the correct head (or no head if the word is a root) (Eisner, 1996; Collins et al., 1999).', {'article_index': '47', 'partition': 1, 'centrality': 0.1423850891412368}), (' This development has fueled interest in proting the parsing technologies developed for English and the Penn treebank format to other languages and representation formats(Collins et al., 1999; Debey and Leller, 2003)', {'article_index': '48', 'partition': 1, 'centrality': 0.17089995321721282}), (' The number of recovered dependencies gives an estimate of the probability that a dependency will be correctly identified by the LG parser (this criterion is also employed by, e.g., Collins et al. (1999)).', {'article_index': '49', 'partition': 0, 'centrality': 0.21020103042358532}), (' Here 80% accuracy for unlabelled dependencies have been achieved(Collins et al., 1999)', {'article_index': '50', 'partition': 7, 'centrality': 1.0}), (' Lexicalization can increase parsing performance dramatically for English (Carroll and Rooth, 1998; Charniak, 1997, 2000; Collins, 1997), and the lexicalized model proposed by Collins (1997) has been successfully applied to Czech (Collins et al., 1999) and Chinese (Bikel and Chiang, 2000).', {'article_index': '51', 'partition': 1, 'centrality': 0.16898531543328754}), (' The work by Collins et al. (1999) and Bikel and Chiang (2000) has demonstrated the applicability of the Collins (1997) model for Czech and Chinese.', {'article_index': '51', 'partition': 1, 'centrality': 0.15950499201995325}), (' However, the learning curve for Negra (see Figure 1) indicates that the performance of the Collins (1997) model is stable, even for small training sets. Collins et al. (1999) and Bikel and Chiang (2000) do not compare their models with an unlexicalized baseline; hence it is unclear if lexicalization really improves parsing performance for these languages.', {'article_index': '51', 'partition': 0, 'centrality': 0.21082255150969367}), (' We use the example of Dutch ditransitives, but our argument equally applies to other languages such as Czech (see Collins et al. (1999)).', {'article_index': '52', 'partition': 8, 'centrality': 1.0}), (' However, such constructions prove to be difficult for stochastic parsers (Collins et al., 1999) and they either avoid tackling the problem (Charniak, 2000; Bod, 2003) or only deal with a subset of the problematic cases (Collins, 1997).', {'article_index': '53', 'partition': 1, 'centrality': 0.2575701276721899}), (' Collins et al. (1999) describe how the models in the current article were applied to parsing Czech.', {'article_index': '54', 'partition': 1, 'centrality': 0.18625178267377235}), (' Dependency-based statistical language modeling and parsing have also become quite popular in statistical natural language processing (Lafferty, Sleator, and Temperley 1992; Eisner 1996; Chelba et al. 1997; Collins 1996; Collins et al. 1999).', {'article_index': '55', 'partition': 1, 'centrality': 0.1489120480406032}), (\" The ATSs produced by Collins' dependency parser(Collins et al., 1999), which yields the ATSs, are manually edited; instructuions for the editing have been formulated and apporximately 100000 sentences have been annotated at the analytical level.\", {'article_index': '56', 'partition': 9, 'centrality': 1.0}), (' Algorithm 2, as adopted by Collins and his colleagues [2] when they converted the Czech dependency Treebank [6] into a phrase- structure Treebank, produces phrase structures that are as flat as possible.', {'article_index': '57', 'partition': 2, 'centrality': 0.46491117995167774}), (\" the sentences from CNC are preprocessed by a dependency-based modification of Collins et al.'s (1999) automatic parser (with a success rate of about 80%), followed by a manual tagging procedure that is supported by a special user-friendly software tool that enables the annotators to work with (i.e. modify) the automatically derived graphic representations of the trees;\", {'article_index': '58', 'partition': 0, 'centrality': 0.22397849060334002}), (' For a detailed descriptions see Haji6 (1998), Hladkfi (2000) and Collins, Haji6, Ram~haw, Tillmann (1999).', {'article_index': '59', 'partition': 1, 'centrality': 0.021112586425823282}), (\" We use the statistical Collins's parser to create the structure of the tree and then a statistical procedure to assign words their syntactic functions.\", {'article_index': '59', 'partition': 0, 'centrality': 0.022718188651481747}), ((\" the sentences from CNC are preprocessed by a dependency-based modification of Collins et al.'s (1999) automatic parser (with a success rate of about 80%), followed by a manual tagging procedure that is supported by a special user-friendly software tool that enables the annotators to work with (i.e. modify) the automatically derived graphic representations of the trees;\", 0.22397849060334002), {'centrality': (' Previous DS to PS conversion methods built a converted tree by iteratively attaching nodes and edges to the tree with the help of conversion rules and heuristic rules, based on current head- dependent pair from a source dependency tree and the structure of the built tree (Collins et al., 1999; Covington, 1994; Xia and Palmer, 2001; Xia et al., 2008).', 0.21783635832812126)}), ((' Other related works focus on converting one grammar formalism of a treebank to another and then conducting studies on the converted treebank (Collins et al., 1999; Forst, 2003; Wang et al., 1994; Watkinson and Manandhar, 2001).', 0.26488246122180026), {'centrality': (' However, such constructions prove to be difficult for stochastic parsers (Collins et al., 1999) and they either avoid tackling the problem (Charniak, 2000; Bod, 2003) or only deal with a subset of the problematic cases (Collins, 1997).', 0.2575701276721899)}), ((' Dependency-based representations have become increasingly popular in syntactic parsing, especially for languages that exhibit free or flexible word order, such as Czech [7], Bulgarian [15], Turkish [14] and Russian [4].', 0.5648417595396397), {'centrality': (' This two-dimensional parametrization2 was shown to improve parsing accuracy for English [4, 1] as well as other languages, e.g., German [7] Czech [5] and Chinese [2].', 0.47678363380526756)}), ((' This is consistent with the findings of Collins et al. (1999) for Czech, where the bigram model upped dependency accuracy by about 0.9%, as well as for English where Charniak (2000) reports an increase in F-score of approximately 0.3%.', 0.5851818021077321), {'centrality': (\" Comparable results in the literature are Schiehlen's (2004) 81.03% dependency f- score reached on the German NEGRA treebank and Collins et al.'s (1999) 80.0% labelled accuracy on the Czech PDT treebank.\", 0.5735829623578843)})]\n"
     ]
    }
   ],
   "source": [
    "\n",
    "top_sentences_in_each_community = []\n",
    "for h in range(number_of_communities):\n",
    "    S = nx.Graph()\n",
    "    S_each = all_S[h]\n",
    "    S.add_nodes_from(S_each)\n",
    "    for i in range(len(S_each)-1):\n",
    "        for j in range(i+1, len(S_each)):\n",
    "            doc1 = nlp(S_each[i])\n",
    "            doc2 = nlp(S_each[j])\n",
    "            similarity = ((doc1.similarity(doc2))-0.5)*200\n",
    "            if similarity>80:\n",
    "                S.add_edge(S_each[i], S_each[j], weight=similarity, distance = 100-similarity)\n",
    "                \n",
    "    S_rank = nx.eigenvector_centrality(S, weight='weight')\n",
    "    #S_rank = nx.closeness_centrality(S, distance = 'distance')\n",
    "    #S_rank = nx.degree_centrality(S)\n",
    "    #S_rank = nx.betweenness_centrality(S,weight='weight')\n",
    "    S_rank = sorted(S_rank.items(), key=lambda item: item[1], reverse=True)\n",
    "    for item in S_rank:\n",
    "        G.add_node(item[0], centrality = item[1])\n",
    "\n",
    "    \n",
    "    top_sentences_in_each_community.append(S_rank[0])\n",
    "\n",
    "nx.write_gexf(G, \"G_eigenvector.gexf\")"
   ]
  },
  {
   "cell_type": "code",
   "execution_count": null,
   "id": "be5bd862",
   "metadata": {},
   "outputs": [],
   "source": []
  },
  {
   "cell_type": "code",
   "execution_count": 157,
   "id": "1c2917ec",
   "metadata": {},
   "outputs": [
    {
     "name": "stdout",
     "output_type": "stream",
     "text": [
      "(\" the sentences from CNC are preprocessed by a dependency-based modification of Collins et al.'s (1999) automatic parser (with a success rate of about 80%), followed by a manual tagging procedure that is supported by a special user-friendly software tool that enables the annotators to work with (i.e. modify) the automatically derived graphic representations of the trees;\", 0.22397849060334002)\n",
      "(' Other related works focus on converting one grammar formalism of a treebank to another and then conducting studies on the converted treebank (Collins et al., 1999; Forst, 2003; Wang et al., 1994; Watkinson and Manandhar, 2001).', 0.26488246122180026)\n",
      "(' Dependency-based representations have become increasingly popular in syntactic parsing, especially for languages that exhibit free or flexible word order, such as Czech [7], Bulgarian [15], Turkish [14] and Russian [4].', 0.5648417595396397)\n",
      "(' This is consistent with the findings of Collins et al. (1999) for Czech, where the bigram model upped dependency accuracy by about 0.9%, as well as for English where Charniak (2000) reports an increase in F-score of approximately 0.3%.', 0.5851818021077321)\n"
     ]
    }
   ],
   "source": [
    "# Select the most important information (centrality value < 1)\n",
    "\n",
    "for sentence in top_sentences_in_each_community:\n",
    "    if sentence[1] <1 :\n",
    "        print(sentence)"
   ]
  },
  {
   "cell_type": "markdown",
   "id": "81673c98",
   "metadata": {},
   "source": [
    "##### Beteenness Centrality"
   ]
  },
  {
   "cell_type": "code",
   "execution_count": 158,
   "id": "58e65f34",
   "metadata": {},
   "outputs": [],
   "source": [
    "top_sentences_in_each_community = []\n",
    "\n",
    "for h in range(number_of_communities):\n",
    "    S = nx.Graph()\n",
    "    S_each = all_S[h]\n",
    "    S.add_nodes_from(S_each)\n",
    "    for i in range(len(S_each)-1):\n",
    "        for j in range(i+1, len(S_each)):\n",
    "            doc1 = nlp(S_each[i])\n",
    "            doc2 = nlp(S_each[j])\n",
    "            similarity = ((doc1.similarity(doc2))-0.5)*200\n",
    "            if similarity>80:\n",
    "                S.add_edge(S_each[i], S_each[j], weight=similarity, distance = 100-similarity)\n",
    "    #S_rank = nx.eigenvector_centrality(S, weight='weight')\n",
    "    #S_rank = nx.closeness_centrality(S, distance = 'distance')\n",
    "    #S_rank = nx.degree_centrality(S)\n",
    "    S_rank = nx.betweenness_centrality(S,weight='weight')\n",
    "    S_rank = sorted(S_rank.items(), key=lambda item: item[1], reverse=True)\n",
    "    top_sentences_in_each_community.append(S_rank[0])"
   ]
  },
  {
   "cell_type": "code",
   "execution_count": 159,
   "id": "73d4fdfc",
   "metadata": {},
   "outputs": [
    {
     "name": "stdout",
     "output_type": "stream",
     "text": [
      "(\" Collins et al. (1999b) proposed an algorithm to convert the Czech dependency Treebank into a phrase structure Treebank and do dependency parsing through Collins (1999a)'s model.\", 0.052631578947368425)\n",
      "(' It is also true of the adaptation of the Collins parser for Czech (Collins et al., 1999) and the finite-state dependency parser for Turkish by Oflazer (2003).', 0.06854838709677419)\n",
      "(' Dependency-based representations have become increasingly popular in syntactic parsing, especially for languages that exhibit free or flexible word order, such as Czech [7], Bulgarian [15], Turkish [14] and Russian [4].', 0.16666666666666666)\n"
     ]
    }
   ],
   "source": [
    "# Select the most important information (centrality value > 0)\n",
    "\n",
    "for sentence in top_sentences_in_each_community:\n",
    "    if sentence[1] >0 :\n",
    "        print(sentence)"
   ]
  },
  {
   "cell_type": "markdown",
   "id": "24addabc",
   "metadata": {},
   "source": [
    "##### Closeness Centrality"
   ]
  },
  {
   "cell_type": "code",
   "execution_count": 160,
   "id": "90bce424",
   "metadata": {},
   "outputs": [],
   "source": [
    "top_sentences_in_each_community = []\n",
    "\n",
    "for h in range(number_of_communities):\n",
    "    S = nx.Graph()\n",
    "    S_each = all_S[h]\n",
    "    S.add_nodes_from(S_each)\n",
    "    for i in range(len(S_each)-1):\n",
    "        for j in range(i+1, len(S_each)):\n",
    "            doc1 = nlp(S_each[i])\n",
    "            doc2 = nlp(S_each[j])\n",
    "            similarity = ((doc1.similarity(doc2))-0.5)*200\n",
    "            if similarity>80:\n",
    "                S.add_edge(S_each[i], S_each[j], weight=similarity, distance = 100-similarity)\n",
    "    #S_rank = nx.eigenvector_centrality(S, weight='weight')\n",
    "    S_rank = nx.closeness_centrality(S, distance = 'distance')\n",
    "    #S_rank = nx.degree_centrality(S)\n",
    "    #S_rank = nx.betweenness_centrality(S,weight='weight')\n",
    "    S_rank = sorted(S_rank.items(), key=lambda item: item[1], reverse=True)\n",
    "    top_sentences_in_each_community.append(S_rank[0])"
   ]
  },
  {
   "cell_type": "code",
   "execution_count": 161,
   "id": "615eeac0",
   "metadata": {},
   "outputs": [
    {
     "name": "stdout",
     "output_type": "stream",
     "text": [
      "(' The remaining set of projected trees becomes the treebank that will be used to train a new dependency parser — we conduct our experiments using a version of the Collins parser that has been adapted for dependency treebanks (Collins et al. 1999).', 0.05811179519093787)\n",
      "(' Interest in parsing models for languages other than English has been growing, starting with work on Czech (Collins et al., 1999) and Chinese (Bikel and Chiang, 2000; Levy and Manning, 2003).', 0.060547669912540354)\n",
      "(' Dependency-based representations have become increasingly popular in syntactic parsing, especially for languages that exhibit free or flexible word order, such as Czech [7], Bulgarian [15], Turkish [14] and Russian [4].', 0.0646647384264534)\n",
      "(' This is consistent with the findings of Collins et al. (1999) for Czech, where the bigram model upped dependency accuracy by about 0.9%, as well as for English where Charniak (2000) reports an increase in F-score of approximately 0.3%.', 0.07873607542856635)\n"
     ]
    }
   ],
   "source": [
    "# Select the most important information (centrality value > 0)\n",
    "\n",
    "for sentence in top_sentences_in_each_community:\n",
    "    if sentence[1] >0 :\n",
    "        print(sentence)"
   ]
  },
  {
   "cell_type": "markdown",
   "id": "49fa99bc",
   "metadata": {},
   "source": [
    "##### Degree centrality"
   ]
  },
  {
   "cell_type": "code",
   "execution_count": 162,
   "id": "3ac99cb1",
   "metadata": {},
   "outputs": [],
   "source": [
    "top_sentences_in_each_community = []\n",
    "\n",
    "for h in range(number_of_communities):\n",
    "    S = nx.Graph()\n",
    "    S_each = all_S[h]\n",
    "    S.add_nodes_from(S_each)\n",
    "    for i in range(len(S_each)-1):\n",
    "        for j in range(i+1, len(S_each)):\n",
    "            doc1 = nlp(S_each[i])\n",
    "            doc2 = nlp(S_each[j])\n",
    "            similarity = ((doc1.similarity(doc2))-0.5)*200\n",
    "            if similarity>80:\n",
    "                S.add_edge(S_each[i], S_each[j], weight=similarity, distance = 100-similarity)\n",
    "    #S_rank = nx.eigenvector_centrality(S, weight='weight')\n",
    "    #S_rank = nx.closeness_centrality(S, distance = 'distance')\n",
    "    S_rank = nx.degree_centrality(S)\n",
    "    #S_rank = nx.betweenness_centrality(S,weight='weight')\n",
    "    S_rank = sorted(S_rank.items(), key=lambda item: item[1], reverse=True)\n",
    "    top_sentences_in_each_community.append(S_rank[0])"
   ]
  },
  {
   "cell_type": "code",
   "execution_count": 163,
   "id": "a77242b1",
   "metadata": {},
   "outputs": [
    {
     "name": "stdout",
     "output_type": "stream",
     "text": [
      "(\" the sentences from CNC are preprocessed by a dependency-based modification of Collins et al.'s (1999) automatic parser (with a success rate of about 80%), followed by a manual tagging procedure that is supported by a special user-friendly software tool that enables the annotators to work with (i.e. modify) the automatically derived graphic representations of the trees;\", 0.8421052631578947)\n",
      "(' Other related works focus on converting one grammar formalism of a treebank to another and then conducting studies on the converted treebank (Collins et al., 1999; Forst, 2003; Wang et al., 1994; Watkinson and Manandhar, 2001).', 0.84375)\n"
     ]
    }
   ],
   "source": [
    "# Select the most important information (centrality value < 1)\n",
    "\n",
    "for sentence in top_sentences_in_each_community:\n",
    "    if sentence[1] <1 :\n",
    "        print(sentence)"
   ]
  }
 ],
 "metadata": {
  "interpreter": {
   "hash": "31f2aee4e71d21fbe5cf8b01ff0e069b9275f58929596ceb00d14d90e3e16cd6"
  },
  "kernelspec": {
   "display_name": "Python 3 (ipykernel)",
   "language": "python",
   "name": "python3"
  },
  "language_info": {
   "codemirror_mode": {
    "name": "ipython",
    "version": 3
   },
   "file_extension": ".py",
   "mimetype": "text/x-python",
   "name": "python",
   "nbconvert_exporter": "python",
   "pygments_lexer": "ipython3",
   "version": "3.9.10"
  }
 },
 "nbformat": 4,
 "nbformat_minor": 5
}
